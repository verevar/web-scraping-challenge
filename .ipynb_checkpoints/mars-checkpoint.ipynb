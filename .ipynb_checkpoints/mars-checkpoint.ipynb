{
 "cells": [
  {
   "cell_type": "code",
   "execution_count": null,
   "id": "506caebe",
   "metadata": {},
   "outputs": [],
   "source": [
    "# Dependencies\n",
    "from bs4 import BeautifulSoup as bs\n",
    "from time import sleep\n",
    "import pandas as pd\n",
    "from splinter import Browser\n",
    "from splinter.exceptions import ElementDoesNotExist\n",
    "from selenium.webdriver import ActionChains\n",
    "from webdriver_manager.chrome import ChromeDriverManager\n",
    "from IPython.display import HTML"
   ]
  },
  {
   "cell_type": "code",
   "execution_count": null,
   "id": "2876b0c3",
   "metadata": {},
   "outputs": [],
   "source": [
    "executable_path = {'executable_path': ChromeDriverManager().install()}\n",
    "browser = Browser('chrome', **executable_path, headless=False)\n",
    "\n",
    "url = \"https://mars.nasa.gov/news/?page=0&per_page=40&order=publish_date+desc%2Ccreated_at+desc&search=&category=19%2C165%2C184%2C204&blank_scope=Latest\"\n",
    "browser.visit(url)\n",
    "sleep(5)\n"
   ]
  },
  {
   "cell_type": "code",
   "execution_count": null,
   "id": "494ebf38",
   "metadata": {},
   "outputs": [],
   "source": [
    "soup = bs(browser.html, \"html.parser\")"
   ]
  },
  {
   "cell_type": "code",
   "execution_count": null,
   "id": "676abcee",
   "metadata": {},
   "outputs": [],
   "source": [
    "results = soup.find_all(\"li\",class_=\"slide\")"
   ]
  },
  {
   "cell_type": "code",
   "execution_count": null,
   "id": "00bd4619",
   "metadata": {},
   "outputs": [],
   "source": [
    "news_title = results[0].find(\"div\",class_=\"content_title\").text\n",
    "print(news_title)"
   ]
  },
  {
   "cell_type": "code",
   "execution_count": null,
   "id": "cb837ef3",
   "metadata": {},
   "outputs": [],
   "source": [
    "news_p = results[0].find(\"div\",class_=\"article_teaser_body\").text\n",
    "print(news_p)"
   ]
  },
  {
   "cell_type": "code",
   "execution_count": null,
   "id": "b005e313",
   "metadata": {},
   "outputs": [],
   "source": []
  },
  {
   "cell_type": "code",
   "execution_count": null,
   "id": "85437667",
   "metadata": {},
   "outputs": [],
   "source": [
    "#Images\n",
    "url = \"https://www.jpl.nasa.gov/spaceimages/?search=&category=Mars\"\n",
    "browser.visit(url)\n",
    "sleep(1)"
   ]
  },
  {
   "cell_type": "code",
   "execution_count": null,
   "id": "b40eaed2",
   "metadata": {},
   "outputs": [],
   "source": [
    "soup = bs(browser.html, \"html.parser\")"
   ]
  },
  {
   "cell_type": "code",
   "execution_count": null,
   "id": "8d2280d9",
   "metadata": {},
   "outputs": [],
   "source": [
    "soup.article.attrs"
   ]
  },
  {
   "cell_type": "code",
   "execution_count": null,
   "id": "6b4ede0f",
   "metadata": {},
   "outputs": [],
   "source": [
    "transform = soup.article[\"style\"]\n",
    "\n",
    "start = transform.rfind(\"url('\") + len(\"url('\") \n",
    "end = transform.rfind(\"')\")\n",
    "\n",
    "main_url = \"https://www.jpl.nasa.gov\"\n",
    "featured_image_url = main_url + transform[start:end]\n",
    "print(featured_image_url)"
   ]
  },
  {
   "cell_type": "code",
   "execution_count": null,
   "id": "7d77ee75",
   "metadata": {},
   "outputs": [],
   "source": []
  },
  {
   "cell_type": "code",
   "execution_count": null,
   "id": "76e042db",
   "metadata": {},
   "outputs": [],
   "source": [
    "#facts\n",
    "url = \"https://space-facts.com/mars/\""
   ]
  },
  {
   "cell_type": "code",
   "execution_count": null,
   "id": "36feed36",
   "metadata": {},
   "outputs": [],
   "source": [
    "tables = pd.read_html(url)\n",
    "print(\"Classification of object returned:\",type(tables))\n",
    "print(\"Number of dataframes in list:\",len(tables))"
   ]
  },
  {
   "cell_type": "code",
   "execution_count": null,
   "id": "aec1602d",
   "metadata": {},
   "outputs": [],
   "source": [
    "planetprofile_df = tables[0]\n",
    "planetprofile_df"
   ]
  },
  {
   "cell_type": "code",
   "execution_count": null,
   "id": "b2874087",
   "metadata": {},
   "outputs": [],
   "source": [
    "planetprofile_df.rename(columns={0: \"\", 1: \"Mars\"}, inplace=True) # Rename column header\n",
    "planetprofile_df.set_index([\"\"], inplace=True) # Set column 0 as index \n",
    "planetprofile_df"
   ]
  },
  {
   "cell_type": "code",
   "execution_count": null,
   "id": "8d90c7a3",
   "metadata": {},
   "outputs": [],
   "source": [
    "planetprofile_html = planetprofile_df.to_html()\n",
    "print(\"Classification of object returned:\",type(mars_planet_profile_html))"
   ]
  },
  {
   "cell_type": "code",
   "execution_count": null,
   "id": "7258ab29",
   "metadata": {},
   "outputs": [],
   "source": [
    "planetprofile_html = planetprofile_html.replace(\"    <tr>\\n      <th></th>\\n      <th></th>\\n    </tr>\\n\",\"\")\n",
    "HTML(mars_planet_profile_html)"
   ]
  },
  {
   "cell_type": "code",
   "execution_count": null,
   "id": "bb3da5bd",
   "metadata": {},
   "outputs": [],
   "source": [
    "#Mars hemisphers\n",
    "url = \"https://astrogeology.usgs.gov/search/results?q=hemisphere+enhanced&k1=target&v1=Mars\"\n",
    "browser.visit(url)\n",
    "sleep(1)"
   ]
  },
  {
   "cell_type": "code",
   "execution_count": null,
   "id": "1f62c204",
   "metadata": {},
   "outputs": [],
   "source": [
    "soup = bs(browser.html, \"html.parser\")"
   ]
  },
  {
   "cell_type": "code",
   "execution_count": null,
   "id": "c0bf1481",
   "metadata": {},
   "outputs": [],
   "source": [
    "items = soup.find_all(\"div\",class_=\"item\")\n",
    "len(items)"
   ]
  },
  {
   "cell_type": "code",
   "execution_count": null,
   "id": "3f8fafaa",
   "metadata": {},
   "outputs": [],
   "source": [
    "image_destinations = list()\n",
    "main_url = \"https://astrogeology.usgs.gov\"\n",
    "\n",
    "for item in items:\n",
    "    link = list(item.children)[0][\"href\"]\n",
    "    image_destinations.append(main_url + link)\n",
    "\n",
    "len(image_destinations)"
   ]
  },
  {
   "cell_type": "code",
   "execution_count": null,
   "id": "7248e956",
   "metadata": {},
   "outputs": [],
   "source": [
    "hemisphere_image_urls = []\n",
    "\n",
    "for image_destination in image_destinations:\n",
    "    browser.visit(image_destination)\n",
    "    sleep(1)\n",
    "    soup = bs(browser.html, \"html.parser\")\n",
    "    title = soup.h2.text.replace(\" Enhanced\",\"\")\n",
    "    img_url = soup.li.a[\"href\"]\n",
    "    hemisphere_image_urls.append({\"title\": title, \"img_url\": img_url})\n",
    "\n",
    "hemisphere_image_urls"
   ]
  }
 ],
 "metadata": {
  "kernelspec": {
   "display_name": "Python 3 (ipykernel)",
   "language": "python",
   "name": "python3"
  },
  "language_info": {
   "codemirror_mode": {
    "name": "ipython",
    "version": 3
   },
   "file_extension": ".py",
   "mimetype": "text/x-python",
   "name": "python",
   "nbconvert_exporter": "python",
   "pygments_lexer": "ipython3",
   "version": "3.9.7"
  }
 },
 "nbformat": 4,
 "nbformat_minor": 5
}
